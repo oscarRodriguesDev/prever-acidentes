{
 "cells": [
  {
   "cell_type": "code",
   "execution_count": 1,
   "id": "8829c670",
   "metadata": {},
   "outputs": [],
   "source": [
    "#importações importantes\n",
    "import pandas as pd\n",
    "import numpy as np\n",
    "import matplotlib as mt\n",
    "import matplotlib.pyplot as plt\n",
    "# Imports\n",
    "import seaborn as sns\n",
    "from matplotlib import cm\n",
    "from sklearn.feature_extraction.text import CountVectorizer\n",
    "import warnings\n",
    "warnings.filterwarnings(\"ignore\")\n",
    "sns.set_theme(style = \"whitegrid\")\n",
    "%matplotlib inline\n",
    "import random as rnd"
   ]
  },
  {
   "cell_type": "code",
   "execution_count": 2,
   "id": "9e9c43c2",
   "metadata": {},
   "outputs": [],
   "source": [
    "#importando o dataset\n",
    "df = pd.read_excel('telemetria.xlsx')"
   ]
  },
  {
   "cell_type": "code",
   "execution_count": 3,
   "id": "b8381510",
   "metadata": {},
   "outputs": [
    {
     "data": {
      "text/plain": [
       "(46501, 4)"
      ]
     },
     "execution_count": 3,
     "metadata": {},
     "output_type": "execute_result"
    }
   ],
   "source": [
    "#verificando o shape do nosso data set\n",
    "df.shape"
   ]
  },
  {
   "cell_type": "code",
   "execution_count": 4,
   "id": "dacdc30a",
   "metadata": {},
   "outputs": [
    {
     "data": {
      "text/html": [
       "<div>\n",
       "<style scoped>\n",
       "    .dataframe tbody tr th:only-of-type {\n",
       "        vertical-align: middle;\n",
       "    }\n",
       "\n",
       "    .dataframe tbody tr th {\n",
       "        vertical-align: top;\n",
       "    }\n",
       "\n",
       "    .dataframe thead th {\n",
       "        text-align: right;\n",
       "    }\n",
       "</style>\n",
       "<table border=\"1\" class=\"dataframe\">\n",
       "  <thead>\n",
       "    <tr style=\"text-align: right;\">\n",
       "      <th></th>\n",
       "      <th>Data</th>\n",
       "      <th>Veículo</th>\n",
       "      <th>Alarme</th>\n",
       "      <th>Alarmes por Veículo</th>\n",
       "    </tr>\n",
       "  </thead>\n",
       "  <tbody>\n",
       "    <tr>\n",
       "      <th>0</th>\n",
       "      <td>01/08/2022</td>\n",
       "      <td>14108</td>\n",
       "      <td>ACIONAMENTO INDEVIDO DE EMBREAGEM</td>\n",
       "      <td>32</td>\n",
       "    </tr>\n",
       "    <tr>\n",
       "      <th>1</th>\n",
       "      <td>01/08/2022</td>\n",
       "      <td>14108</td>\n",
       "      <td>CURVA BRUSCA À DIREITA</td>\n",
       "      <td>32</td>\n",
       "    </tr>\n",
       "    <tr>\n",
       "      <th>2</th>\n",
       "      <td>01/08/2022</td>\n",
       "      <td>14108</td>\n",
       "      <td>EXCESSO VELOCIDADE - TELEMETRIA</td>\n",
       "      <td>32</td>\n",
       "    </tr>\n",
       "    <tr>\n",
       "      <th>3</th>\n",
       "      <td>01/08/2022</td>\n",
       "      <td>14108</td>\n",
       "      <td>RPM FORA DE FAIXA VERDE EM ACLIVE</td>\n",
       "      <td>32</td>\n",
       "    </tr>\n",
       "    <tr>\n",
       "      <th>4</th>\n",
       "      <td>01/08/2022</td>\n",
       "      <td>14109</td>\n",
       "      <td>ACIMA DA FAIXA VERDE</td>\n",
       "      <td>67</td>\n",
       "    </tr>\n",
       "  </tbody>\n",
       "</table>\n",
       "</div>"
      ],
      "text/plain": [
       "         Data  Veículo                             Alarme  Alarmes por Veículo\n",
       "0  01/08/2022    14108  ACIONAMENTO INDEVIDO DE EMBREAGEM                   32\n",
       "1  01/08/2022    14108             CURVA BRUSCA À DIREITA                   32\n",
       "2  01/08/2022    14108    EXCESSO VELOCIDADE - TELEMETRIA                   32\n",
       "3  01/08/2022    14108  RPM FORA DE FAIXA VERDE EM ACLIVE                   32\n",
       "4  01/08/2022    14109               ACIMA DA FAIXA VERDE                   67"
      ]
     },
     "execution_count": 4,
     "metadata": {},
     "output_type": "execute_result"
    }
   ],
   "source": [
    "#primeiras linhas do data set\n",
    "df.head()"
   ]
  },
  {
   "cell_type": "code",
   "execution_count": 5,
   "id": "625853f0",
   "metadata": {},
   "outputs": [
    {
     "data": {
      "text/html": [
       "<div>\n",
       "<style scoped>\n",
       "    .dataframe tbody tr th:only-of-type {\n",
       "        vertical-align: middle;\n",
       "    }\n",
       "\n",
       "    .dataframe tbody tr th {\n",
       "        vertical-align: top;\n",
       "    }\n",
       "\n",
       "    .dataframe thead th {\n",
       "        text-align: right;\n",
       "    }\n",
       "</style>\n",
       "<table border=\"1\" class=\"dataframe\">\n",
       "  <thead>\n",
       "    <tr style=\"text-align: right;\">\n",
       "      <th></th>\n",
       "      <th>Data</th>\n",
       "      <th>Veículo</th>\n",
       "      <th>Alarme</th>\n",
       "      <th>Alarmes por Veículo</th>\n",
       "    </tr>\n",
       "  </thead>\n",
       "  <tbody>\n",
       "    <tr>\n",
       "      <th>46496</th>\n",
       "      <td>31/08/2022</td>\n",
       "      <td>14278</td>\n",
       "      <td>ACIONAMENTO INDEVIDO DE EMBREAGEM</td>\n",
       "      <td>82</td>\n",
       "    </tr>\n",
       "    <tr>\n",
       "      <th>46497</th>\n",
       "      <td>31/08/2022</td>\n",
       "      <td>14278</td>\n",
       "      <td>CURVA BRUSCA À DIREITA</td>\n",
       "      <td>82</td>\n",
       "    </tr>\n",
       "    <tr>\n",
       "      <th>46498</th>\n",
       "      <td>31/08/2022</td>\n",
       "      <td>14278</td>\n",
       "      <td>EXCESSO VELOCIDADE - TELEMETRIA</td>\n",
       "      <td>82</td>\n",
       "    </tr>\n",
       "    <tr>\n",
       "      <th>46499</th>\n",
       "      <td>31/08/2022</td>\n",
       "      <td>14278</td>\n",
       "      <td>OCIOSO</td>\n",
       "      <td>82</td>\n",
       "    </tr>\n",
       "    <tr>\n",
       "      <th>46500</th>\n",
       "      <td>31/08/2022</td>\n",
       "      <td>14278</td>\n",
       "      <td>RPM FORA DE FAIXA VERDE EM ACLIVE</td>\n",
       "      <td>82</td>\n",
       "    </tr>\n",
       "  </tbody>\n",
       "</table>\n",
       "</div>"
      ],
      "text/plain": [
       "             Data  Veículo                             Alarme  \\\n",
       "46496  31/08/2022    14278  ACIONAMENTO INDEVIDO DE EMBREAGEM   \n",
       "46497  31/08/2022    14278             CURVA BRUSCA À DIREITA   \n",
       "46498  31/08/2022    14278    EXCESSO VELOCIDADE - TELEMETRIA   \n",
       "46499  31/08/2022    14278                             OCIOSO   \n",
       "46500  31/08/2022    14278  RPM FORA DE FAIXA VERDE EM ACLIVE   \n",
       "\n",
       "       Alarmes por Veículo  \n",
       "46496                   82  \n",
       "46497                   82  \n",
       "46498                   82  \n",
       "46499                   82  \n",
       "46500                   82  "
      ]
     },
     "execution_count": 5,
     "metadata": {},
     "output_type": "execute_result"
    }
   ],
   "source": [
    "#ultimas linhas do nosso data set\n",
    "df.tail(5)"
   ]
  },
  {
   "cell_type": "code",
   "execution_count": 6,
   "id": "9a77c8ab",
   "metadata": {},
   "outputs": [
    {
     "data": {
      "text/plain": [
       "False"
      ]
     },
     "execution_count": 6,
     "metadata": {},
     "output_type": "execute_result"
    }
   ],
   "source": [
    "#verificando se tem valores nulos dentro do meu dataset\n",
    "df.isnull().values.any()"
   ]
  },
  {
   "cell_type": "code",
   "execution_count": 7,
   "id": "76f27d90",
   "metadata": {},
   "outputs": [],
   "source": [
    "#primeiro preciso dos tipos de alarmes:\n",
    "al = df['Alarme'].unique()\n",
    "#alarme = [x for x in al]"
   ]
  },
  {
   "cell_type": "markdown",
   "id": "2637f282-754e-4b0a-b300-70c404e25a88",
   "metadata": {},
   "source": [
    "## tem que agurupar por alarme antes de trocar os valores"
   ]
  },
  {
   "cell_type": "raw",
   "id": "231d83c5",
   "metadata": {},
   "source": [
    "alterando os valores de alarmes por nivel de importancia, por exempo\n",
    "ACIONAMENTO INDEVIDO DE EMBREAGEM = 1\n",
    "CURVA BRUSCA À DIREITA = 7\n",
    "EXCESSO VELOCIDADE - TELEMETRIA=10\n",
    "RPM FORA DE FAIXA VERDE EM ACLIVE =2, \n",
    "ACIMA DA FAIXA VERDE =3\n",
    "OCIOSO=0\n",
    "CURVA BRUSCA À ESQUERDA=7.5\n",
    "FREADA BRUSCA=10.9\n",
    "ABAIXO DA FAIXA VERDE=2.5\n",
    "PONTO MORTO IRREGULAR=2.75\n",
    "FAIXA DE PONTÊNCIA 2.8\n",
    "RPM EXCEDIDO=3.5\n",
    "ACELERAÇAO BRUSCA=8\n",
    "ACIMA DA FAIXA DE POTÊNCIA=3.6\n"
   ]
  },
  {
   "cell_type": "code",
   "execution_count": 8,
   "id": "996ed39c",
   "metadata": {},
   "outputs": [],
   "source": [
    "#preparando dados, a coluna diabetes possui valores de texto e precisamos converter em valores numericos\n",
    "alarmes_map = {'ACIONAMENTO INDEVIDO DE EMBREAGEM':1.0,'CURVA BRUSCA À DIREITA':7.0,'EXCESSO VELOCIDADE - TELEMETRIA':10.0,\n",
    "             'RPM FORA DE FAIXA VERDE EM ACLIVE':2.0,'ACIMA DA FAIXA VERDE':3.0,'OCIOSO':0,'CURVA BRUSCA À ESQUERDA':7.5, \n",
    "              'FREADA BRUSCA':10.9,'ABAIXO DA FAIXA VERDE':2.5,'PONTO MORTO IRREGULAR':2.75,'FAIXA DE PONTÊNCIA':2.8,\n",
    "              'RPM EXCEDIDO':3.5,'ACELERAÇAO BRUSCA':8,'ACIMA DA FAIXA DE POTÊNCIA':3.6}"
   ]
  },
  {
   "cell_type": "raw",
   "id": "8c710280-3527-40b4-b716-d5a78f39f4b3",
   "metadata": {},
   "source": [
    "\n",
    "#preparando dados, a coluna diabetes possui valores de texto e precisamos converter em valores numericos\n",
    "alarmes_map = {'ACIONAMENTO INDEVIDO DE EMBREAGEM':0,'CURVA BRUSCA À DIREITA':0,'EXCESSO VELOCIDADE - TELEMETRIA':0,\n",
    "             'RPM FORA DE FAIXA VERDE EM ACLIVE':0,'ACIMA DA FAIXA VERDE':0,'OCIOSO':0,'CURVA BRUSCA À ESQUERDA':0, \n",
    "              'FREADA BRUSCA':0,'ABAIXO DA FAIXA VERDE':0,'PONTO MORTO IRREGULAR':0,'FAIXA DE PONTÊNCIA':0,\n",
    "              'RPM EXCEDIDO':0,'ACELERAÇAO BRUSCA':0,'ACIMA DA FAIXA DE POTÊNCIA':0}"
   ]
  },
  {
   "cell_type": "code",
   "execution_count": 9,
   "id": "1693491b",
   "metadata": {},
   "outputs": [],
   "source": [
    "#aplicando o mapeamento ao dataset\n",
    "df['Alarme'] =  df['Alarme'].map(alarmes_map)"
   ]
  },
  {
   "cell_type": "code",
   "execution_count": 10,
   "id": "7d15e061",
   "metadata": {},
   "outputs": [
    {
     "data": {
      "text/html": [
       "<div>\n",
       "<style scoped>\n",
       "    .dataframe tbody tr th:only-of-type {\n",
       "        vertical-align: middle;\n",
       "    }\n",
       "\n",
       "    .dataframe tbody tr th {\n",
       "        vertical-align: top;\n",
       "    }\n",
       "\n",
       "    .dataframe thead th {\n",
       "        text-align: right;\n",
       "    }\n",
       "</style>\n",
       "<table border=\"1\" class=\"dataframe\">\n",
       "  <thead>\n",
       "    <tr style=\"text-align: right;\">\n",
       "      <th></th>\n",
       "      <th>Data</th>\n",
       "      <th>Veículo</th>\n",
       "      <th>Alarme</th>\n",
       "      <th>Alarmes por Veículo</th>\n",
       "    </tr>\n",
       "  </thead>\n",
       "  <tbody>\n",
       "    <tr>\n",
       "      <th>0</th>\n",
       "      <td>01/08/2022</td>\n",
       "      <td>14108</td>\n",
       "      <td>1.0</td>\n",
       "      <td>32</td>\n",
       "    </tr>\n",
       "    <tr>\n",
       "      <th>1</th>\n",
       "      <td>01/08/2022</td>\n",
       "      <td>14108</td>\n",
       "      <td>7.0</td>\n",
       "      <td>32</td>\n",
       "    </tr>\n",
       "    <tr>\n",
       "      <th>2</th>\n",
       "      <td>01/08/2022</td>\n",
       "      <td>14108</td>\n",
       "      <td>10.0</td>\n",
       "      <td>32</td>\n",
       "    </tr>\n",
       "    <tr>\n",
       "      <th>3</th>\n",
       "      <td>01/08/2022</td>\n",
       "      <td>14108</td>\n",
       "      <td>2.0</td>\n",
       "      <td>32</td>\n",
       "    </tr>\n",
       "    <tr>\n",
       "      <th>4</th>\n",
       "      <td>01/08/2022</td>\n",
       "      <td>14109</td>\n",
       "      <td>3.0</td>\n",
       "      <td>67</td>\n",
       "    </tr>\n",
       "  </tbody>\n",
       "</table>\n",
       "</div>"
      ],
      "text/plain": [
       "         Data  Veículo  Alarme  Alarmes por Veículo\n",
       "0  01/08/2022    14108     1.0                   32\n",
       "1  01/08/2022    14108     7.0                   32\n",
       "2  01/08/2022    14108    10.0                   32\n",
       "3  01/08/2022    14108     2.0                   32\n",
       "4  01/08/2022    14109     3.0                   67"
      ]
     },
     "execution_count": 10,
     "metadata": {},
     "output_type": "execute_result"
    }
   ],
   "source": [
    "#verificando a mudança\n",
    "df.head()"
   ]
  },
  {
   "cell_type": "code",
   "execution_count": 11,
   "id": "7c39e6e2",
   "metadata": {},
   "outputs": [],
   "source": [
    "#modificar a data para um digito apenas\n",
    "Dia = [str(x[:2]) for x in df['Data']]"
   ]
  },
  {
   "cell_type": "code",
   "execution_count": 12,
   "id": "3e0255f4",
   "metadata": {},
   "outputs": [],
   "source": [
    "df['Dia'] =Dia"
   ]
  },
  {
   "cell_type": "code",
   "execution_count": 13,
   "id": "d773ce5f",
   "metadata": {},
   "outputs": [
    {
     "data": {
      "text/html": [
       "<div>\n",
       "<style scoped>\n",
       "    .dataframe tbody tr th:only-of-type {\n",
       "        vertical-align: middle;\n",
       "    }\n",
       "\n",
       "    .dataframe tbody tr th {\n",
       "        vertical-align: top;\n",
       "    }\n",
       "\n",
       "    .dataframe thead th {\n",
       "        text-align: right;\n",
       "    }\n",
       "</style>\n",
       "<table border=\"1\" class=\"dataframe\">\n",
       "  <thead>\n",
       "    <tr style=\"text-align: right;\">\n",
       "      <th></th>\n",
       "      <th>Data</th>\n",
       "      <th>Veículo</th>\n",
       "      <th>Alarme</th>\n",
       "      <th>Alarmes por Veículo</th>\n",
       "      <th>Dia</th>\n",
       "    </tr>\n",
       "  </thead>\n",
       "  <tbody>\n",
       "    <tr>\n",
       "      <th>0</th>\n",
       "      <td>01/08/2022</td>\n",
       "      <td>14108</td>\n",
       "      <td>1.0</td>\n",
       "      <td>32</td>\n",
       "      <td>01</td>\n",
       "    </tr>\n",
       "    <tr>\n",
       "      <th>1</th>\n",
       "      <td>01/08/2022</td>\n",
       "      <td>14108</td>\n",
       "      <td>7.0</td>\n",
       "      <td>32</td>\n",
       "      <td>01</td>\n",
       "    </tr>\n",
       "    <tr>\n",
       "      <th>2</th>\n",
       "      <td>01/08/2022</td>\n",
       "      <td>14108</td>\n",
       "      <td>10.0</td>\n",
       "      <td>32</td>\n",
       "      <td>01</td>\n",
       "    </tr>\n",
       "    <tr>\n",
       "      <th>3</th>\n",
       "      <td>01/08/2022</td>\n",
       "      <td>14108</td>\n",
       "      <td>2.0</td>\n",
       "      <td>32</td>\n",
       "      <td>01</td>\n",
       "    </tr>\n",
       "    <tr>\n",
       "      <th>4</th>\n",
       "      <td>01/08/2022</td>\n",
       "      <td>14109</td>\n",
       "      <td>3.0</td>\n",
       "      <td>67</td>\n",
       "      <td>01</td>\n",
       "    </tr>\n",
       "  </tbody>\n",
       "</table>\n",
       "</div>"
      ],
      "text/plain": [
       "         Data  Veículo  Alarme  Alarmes por Veículo Dia\n",
       "0  01/08/2022    14108     1.0                   32  01\n",
       "1  01/08/2022    14108     7.0                   32  01\n",
       "2  01/08/2022    14108    10.0                   32  01\n",
       "3  01/08/2022    14108     2.0                   32  01\n",
       "4  01/08/2022    14109     3.0                   67  01"
      ]
     },
     "execution_count": 13,
     "metadata": {},
     "output_type": "execute_result"
    }
   ],
   "source": [
    "df.head()"
   ]
  },
  {
   "cell_type": "code",
   "execution_count": 14,
   "id": "961c119e-65ea-416c-8729-761fc23d0028",
   "metadata": {},
   "outputs": [],
   "source": [
    "#criando a coluna total alarmes que vai ser a multiplicaçao entre o valor do alarme  e a coluna alarmes por veiculo\n",
    "total = [x*df['Alarme'] for x in df['Alarmes por Veículo']]"
   ]
  },
  {
   "cell_type": "code",
   "execution_count": 15,
   "id": "864e670f-1f03-43d8-9df6-4bb4ae677b49",
   "metadata": {},
   "outputs": [],
   "source": [
    "#inserir coluna no dataframa\n",
    "df['Total De Alarmes'] = total"
   ]
  },
  {
   "cell_type": "code",
   "execution_count": 16,
   "id": "4ebb3a27-17d1-45fe-8af0-0c247761cb94",
   "metadata": {},
   "outputs": [
    {
     "data": {
      "text/html": [
       "<div>\n",
       "<style scoped>\n",
       "    .dataframe tbody tr th:only-of-type {\n",
       "        vertical-align: middle;\n",
       "    }\n",
       "\n",
       "    .dataframe tbody tr th {\n",
       "        vertical-align: top;\n",
       "    }\n",
       "\n",
       "    .dataframe thead th {\n",
       "        text-align: right;\n",
       "    }\n",
       "</style>\n",
       "<table border=\"1\" class=\"dataframe\">\n",
       "  <thead>\n",
       "    <tr style=\"text-align: right;\">\n",
       "      <th></th>\n",
       "      <th>Data</th>\n",
       "      <th>Veículo</th>\n",
       "      <th>Alarme</th>\n",
       "      <th>Alarmes por Veículo</th>\n",
       "      <th>Dia</th>\n",
       "      <th>Total De Alarmes</th>\n",
       "    </tr>\n",
       "  </thead>\n",
       "  <tbody>\n",
       "    <tr>\n",
       "      <th>0</th>\n",
       "      <td>01/08/2022</td>\n",
       "      <td>14108</td>\n",
       "      <td>1.0</td>\n",
       "      <td>32</td>\n",
       "      <td>01</td>\n",
       "      <td>0         32.0\n",
       "1        224.0\n",
       "2        320.0\n",
       "3...</td>\n",
       "    </tr>\n",
       "    <tr>\n",
       "      <th>1</th>\n",
       "      <td>01/08/2022</td>\n",
       "      <td>14108</td>\n",
       "      <td>7.0</td>\n",
       "      <td>32</td>\n",
       "      <td>01</td>\n",
       "      <td>0         32.0\n",
       "1        224.0\n",
       "2        320.0\n",
       "3...</td>\n",
       "    </tr>\n",
       "    <tr>\n",
       "      <th>2</th>\n",
       "      <td>01/08/2022</td>\n",
       "      <td>14108</td>\n",
       "      <td>10.0</td>\n",
       "      <td>32</td>\n",
       "      <td>01</td>\n",
       "      <td>0         32.0\n",
       "1        224.0\n",
       "2        320.0\n",
       "3...</td>\n",
       "    </tr>\n",
       "    <tr>\n",
       "      <th>3</th>\n",
       "      <td>01/08/2022</td>\n",
       "      <td>14108</td>\n",
       "      <td>2.0</td>\n",
       "      <td>32</td>\n",
       "      <td>01</td>\n",
       "      <td>0         32.0\n",
       "1        224.0\n",
       "2        320.0\n",
       "3...</td>\n",
       "    </tr>\n",
       "    <tr>\n",
       "      <th>4</th>\n",
       "      <td>01/08/2022</td>\n",
       "      <td>14109</td>\n",
       "      <td>3.0</td>\n",
       "      <td>67</td>\n",
       "      <td>01</td>\n",
       "      <td>0         67.0\n",
       "1        469.0\n",
       "2        670.0\n",
       "3...</td>\n",
       "    </tr>\n",
       "  </tbody>\n",
       "</table>\n",
       "</div>"
      ],
      "text/plain": [
       "         Data  Veículo  Alarme  Alarmes por Veículo Dia  \\\n",
       "0  01/08/2022    14108     1.0                   32  01   \n",
       "1  01/08/2022    14108     7.0                   32  01   \n",
       "2  01/08/2022    14108    10.0                   32  01   \n",
       "3  01/08/2022    14108     2.0                   32  01   \n",
       "4  01/08/2022    14109     3.0                   67  01   \n",
       "\n",
       "                                    Total De Alarmes  \n",
       "0  0         32.0\n",
       "1        224.0\n",
       "2        320.0\n",
       "3...  \n",
       "1  0         32.0\n",
       "1        224.0\n",
       "2        320.0\n",
       "3...  \n",
       "2  0         32.0\n",
       "1        224.0\n",
       "2        320.0\n",
       "3...  \n",
       "3  0         32.0\n",
       "1        224.0\n",
       "2        320.0\n",
       "3...  \n",
       "4  0         67.0\n",
       "1        469.0\n",
       "2        670.0\n",
       "3...  "
      ]
     },
     "execution_count": 16,
     "metadata": {},
     "output_type": "execute_result"
    }
   ],
   "source": [
    "df.head()"
   ]
  },
  {
   "cell_type": "code",
   "execution_count": 17,
   "id": "dadd0287-551c-4646-b669-5f6d563a4946",
   "metadata": {},
   "outputs": [],
   "source": [
    "#soma dos codigos do alarme\n",
    "group = df.groupby(['Veículo'])['Total De Alarmes'].count()"
   ]
  },
  {
   "cell_type": "code",
   "execution_count": 18,
   "id": "c1237d36-f932-4130-9010-7aff4f2c300b",
   "metadata": {},
   "outputs": [],
   "source": [
    "df['total'] = df['Total De Alarmes']"
   ]
  },
  {
   "cell_type": "code",
   "execution_count": 19,
   "id": "90d996f5-eda7-48ff-b565-473cc37abad0",
   "metadata": {},
   "outputs": [
    {
     "data": {
      "text/html": [
       "<div>\n",
       "<style scoped>\n",
       "    .dataframe tbody tr th:only-of-type {\n",
       "        vertical-align: middle;\n",
       "    }\n",
       "\n",
       "    .dataframe tbody tr th {\n",
       "        vertical-align: top;\n",
       "    }\n",
       "\n",
       "    .dataframe thead th {\n",
       "        text-align: right;\n",
       "    }\n",
       "</style>\n",
       "<table border=\"1\" class=\"dataframe\">\n",
       "  <thead>\n",
       "    <tr style=\"text-align: right;\">\n",
       "      <th></th>\n",
       "      <th>Data</th>\n",
       "      <th>Veículo</th>\n",
       "      <th>Alarme</th>\n",
       "      <th>Alarmes por Veículo</th>\n",
       "      <th>Dia</th>\n",
       "      <th>Total De Alarmes</th>\n",
       "      <th>total</th>\n",
       "    </tr>\n",
       "  </thead>\n",
       "  <tbody>\n",
       "    <tr>\n",
       "      <th>0</th>\n",
       "      <td>01/08/2022</td>\n",
       "      <td>14108</td>\n",
       "      <td>1.0</td>\n",
       "      <td>32</td>\n",
       "      <td>01</td>\n",
       "      <td>0         32.0\n",
       "1        224.0\n",
       "2        320.0\n",
       "3...</td>\n",
       "      <td>0         32.0\n",
       "1        224.0\n",
       "2        320.0\n",
       "3...</td>\n",
       "    </tr>\n",
       "    <tr>\n",
       "      <th>1</th>\n",
       "      <td>01/08/2022</td>\n",
       "      <td>14108</td>\n",
       "      <td>7.0</td>\n",
       "      <td>32</td>\n",
       "      <td>01</td>\n",
       "      <td>0         32.0\n",
       "1        224.0\n",
       "2        320.0\n",
       "3...</td>\n",
       "      <td>0         32.0\n",
       "1        224.0\n",
       "2        320.0\n",
       "3...</td>\n",
       "    </tr>\n",
       "    <tr>\n",
       "      <th>2</th>\n",
       "      <td>01/08/2022</td>\n",
       "      <td>14108</td>\n",
       "      <td>10.0</td>\n",
       "      <td>32</td>\n",
       "      <td>01</td>\n",
       "      <td>0         32.0\n",
       "1        224.0\n",
       "2        320.0\n",
       "3...</td>\n",
       "      <td>0         32.0\n",
       "1        224.0\n",
       "2        320.0\n",
       "3...</td>\n",
       "    </tr>\n",
       "    <tr>\n",
       "      <th>3</th>\n",
       "      <td>01/08/2022</td>\n",
       "      <td>14108</td>\n",
       "      <td>2.0</td>\n",
       "      <td>32</td>\n",
       "      <td>01</td>\n",
       "      <td>0         32.0\n",
       "1        224.0\n",
       "2        320.0\n",
       "3...</td>\n",
       "      <td>0         32.0\n",
       "1        224.0\n",
       "2        320.0\n",
       "3...</td>\n",
       "    </tr>\n",
       "    <tr>\n",
       "      <th>4</th>\n",
       "      <td>01/08/2022</td>\n",
       "      <td>14109</td>\n",
       "      <td>3.0</td>\n",
       "      <td>67</td>\n",
       "      <td>01</td>\n",
       "      <td>0         67.0\n",
       "1        469.0\n",
       "2        670.0\n",
       "3...</td>\n",
       "      <td>0         67.0\n",
       "1        469.0\n",
       "2        670.0\n",
       "3...</td>\n",
       "    </tr>\n",
       "  </tbody>\n",
       "</table>\n",
       "</div>"
      ],
      "text/plain": [
       "         Data  Veículo  Alarme  Alarmes por Veículo Dia  \\\n",
       "0  01/08/2022    14108     1.0                   32  01   \n",
       "1  01/08/2022    14108     7.0                   32  01   \n",
       "2  01/08/2022    14108    10.0                   32  01   \n",
       "3  01/08/2022    14108     2.0                   32  01   \n",
       "4  01/08/2022    14109     3.0                   67  01   \n",
       "\n",
       "                                    Total De Alarmes  \\\n",
       "0  0         32.0\n",
       "1        224.0\n",
       "2        320.0\n",
       "3...   \n",
       "1  0         32.0\n",
       "1        224.0\n",
       "2        320.0\n",
       "3...   \n",
       "2  0         32.0\n",
       "1        224.0\n",
       "2        320.0\n",
       "3...   \n",
       "3  0         32.0\n",
       "1        224.0\n",
       "2        320.0\n",
       "3...   \n",
       "4  0         67.0\n",
       "1        469.0\n",
       "2        670.0\n",
       "3...   \n",
       "\n",
       "                                               total  \n",
       "0  0         32.0\n",
       "1        224.0\n",
       "2        320.0\n",
       "3...  \n",
       "1  0         32.0\n",
       "1        224.0\n",
       "2        320.0\n",
       "3...  \n",
       "2  0         32.0\n",
       "1        224.0\n",
       "2        320.0\n",
       "3...  \n",
       "3  0         32.0\n",
       "1        224.0\n",
       "2        320.0\n",
       "3...  \n",
       "4  0         67.0\n",
       "1        469.0\n",
       "2        670.0\n",
       "3...  "
      ]
     },
     "execution_count": 19,
     "metadata": {},
     "output_type": "execute_result"
    }
   ],
   "source": [
    "df.head()"
   ]
  },
  {
   "cell_type": "code",
   "execution_count": 20,
   "id": "6818042d-c227-4a8b-aa39-d5ed8db7c8d6",
   "metadata": {},
   "outputs": [],
   "source": [
    "group2 = df.groupby(['Veículo'])['Alarmes por Veículo'].sum()\n"
   ]
  },
  {
   "cell_type": "code",
   "execution_count": 21,
   "id": "26eea8b5-8940-40c6-b37f-d7a51611f486",
   "metadata": {},
   "outputs": [],
   "source": [
    "group3 = df.groupby(['Veículo'])['Alarme'].sum()"
   ]
  },
  {
   "cell_type": "code",
   "execution_count": 22,
   "id": "f74ee007-7502-4600-b0e0-3665be4974cb",
   "metadata": {},
   "outputs": [],
   "source": [
    "data =  pd.DataFrame()"
   ]
  },
  {
   "cell_type": "code",
   "execution_count": 23,
   "id": "7e0b4e76-9790-4414-b8f3-3aa2364eb4c1",
   "metadata": {},
   "outputs": [],
   "source": [
    "data['carro'] =  df['Veículo'].unique()"
   ]
  },
  {
   "cell_type": "code",
   "execution_count": 24,
   "id": "c25ccd8d-6f9b-457a-9011-55955c6d0cae",
   "metadata": {},
   "outputs": [
    {
     "data": {
      "text/html": [
       "<div>\n",
       "<style scoped>\n",
       "    .dataframe tbody tr th:only-of-type {\n",
       "        vertical-align: middle;\n",
       "    }\n",
       "\n",
       "    .dataframe tbody tr th {\n",
       "        vertical-align: top;\n",
       "    }\n",
       "\n",
       "    .dataframe thead th {\n",
       "        text-align: right;\n",
       "    }\n",
       "</style>\n",
       "<table border=\"1\" class=\"dataframe\">\n",
       "  <thead>\n",
       "    <tr style=\"text-align: right;\">\n",
       "      <th></th>\n",
       "      <th>carro</th>\n",
       "    </tr>\n",
       "  </thead>\n",
       "  <tbody>\n",
       "    <tr>\n",
       "      <th>0</th>\n",
       "      <td>14108</td>\n",
       "    </tr>\n",
       "    <tr>\n",
       "      <th>1</th>\n",
       "      <td>14109</td>\n",
       "    </tr>\n",
       "    <tr>\n",
       "      <th>2</th>\n",
       "      <td>14111</td>\n",
       "    </tr>\n",
       "  </tbody>\n",
       "</table>\n",
       "</div>"
      ],
      "text/plain": [
       "   carro\n",
       "0  14108\n",
       "1  14109\n",
       "2  14111"
      ]
     },
     "execution_count": 24,
     "metadata": {},
     "output_type": "execute_result"
    }
   ],
   "source": [
    "data.head(3)"
   ]
  },
  {
   "cell_type": "code",
   "execution_count": 25,
   "id": "bc42a8e2-98ef-4191-a937-87243bf21308",
   "metadata": {},
   "outputs": [],
   "source": [
    "data['sum_alarmes'] =  group2.values"
   ]
  },
  {
   "cell_type": "code",
   "execution_count": 26,
   "id": "9b7c33ac-0ca4-41ca-b164-95fae24d4871",
   "metadata": {},
   "outputs": [
    {
     "data": {
      "text/html": [
       "<div>\n",
       "<style scoped>\n",
       "    .dataframe tbody tr th:only-of-type {\n",
       "        vertical-align: middle;\n",
       "    }\n",
       "\n",
       "    .dataframe tbody tr th {\n",
       "        vertical-align: top;\n",
       "    }\n",
       "\n",
       "    .dataframe thead th {\n",
       "        text-align: right;\n",
       "    }\n",
       "</style>\n",
       "<table border=\"1\" class=\"dataframe\">\n",
       "  <thead>\n",
       "    <tr style=\"text-align: right;\">\n",
       "      <th></th>\n",
       "      <th>carro</th>\n",
       "      <th>sum_alarmes</th>\n",
       "    </tr>\n",
       "  </thead>\n",
       "  <tbody>\n",
       "    <tr>\n",
       "      <th>0</th>\n",
       "      <td>14108</td>\n",
       "      <td>47327</td>\n",
       "    </tr>\n",
       "    <tr>\n",
       "      <th>1</th>\n",
       "      <td>14109</td>\n",
       "      <td>21258</td>\n",
       "    </tr>\n",
       "    <tr>\n",
       "      <th>2</th>\n",
       "      <td>14111</td>\n",
       "      <td>37114</td>\n",
       "    </tr>\n",
       "    <tr>\n",
       "      <th>3</th>\n",
       "      <td>14112</td>\n",
       "      <td>13367</td>\n",
       "    </tr>\n",
       "    <tr>\n",
       "      <th>4</th>\n",
       "      <td>14113</td>\n",
       "      <td>16310</td>\n",
       "    </tr>\n",
       "  </tbody>\n",
       "</table>\n",
       "</div>"
      ],
      "text/plain": [
       "   carro  sum_alarmes\n",
       "0  14108        47327\n",
       "1  14109        21258\n",
       "2  14111        37114\n",
       "3  14112        13367\n",
       "4  14113        16310"
      ]
     },
     "execution_count": 26,
     "metadata": {},
     "output_type": "execute_result"
    }
   ],
   "source": [
    "data.head(5)"
   ]
  },
  {
   "cell_type": "code",
   "execution_count": 27,
   "id": "4bd4f731-ebe8-412c-9fc1-a3034623b3bf",
   "metadata": {},
   "outputs": [],
   "source": [
    "data['um_tipes'] =  group3.values"
   ]
  },
  {
   "cell_type": "code",
   "execution_count": 28,
   "id": "b10b6dd5-12dd-4da5-a233-4d94e1c13bd3",
   "metadata": {},
   "outputs": [
    {
     "data": {
      "text/html": [
       "<div>\n",
       "<style scoped>\n",
       "    .dataframe tbody tr th:only-of-type {\n",
       "        vertical-align: middle;\n",
       "    }\n",
       "\n",
       "    .dataframe tbody tr th {\n",
       "        vertical-align: top;\n",
       "    }\n",
       "\n",
       "    .dataframe thead th {\n",
       "        text-align: right;\n",
       "    }\n",
       "</style>\n",
       "<table border=\"1\" class=\"dataframe\">\n",
       "  <thead>\n",
       "    <tr style=\"text-align: right;\">\n",
       "      <th></th>\n",
       "      <th>carro</th>\n",
       "      <th>sum_alarmes</th>\n",
       "      <th>um_tipes</th>\n",
       "    </tr>\n",
       "  </thead>\n",
       "  <tbody>\n",
       "    <tr>\n",
       "      <th>0</th>\n",
       "      <td>14108</td>\n",
       "      <td>47327</td>\n",
       "      <td>1283.95</td>\n",
       "    </tr>\n",
       "    <tr>\n",
       "      <th>1</th>\n",
       "      <td>14109</td>\n",
       "      <td>21258</td>\n",
       "      <td>969.15</td>\n",
       "    </tr>\n",
       "    <tr>\n",
       "      <th>2</th>\n",
       "      <td>14111</td>\n",
       "      <td>37114</td>\n",
       "      <td>1049.90</td>\n",
       "    </tr>\n",
       "    <tr>\n",
       "      <th>3</th>\n",
       "      <td>14112</td>\n",
       "      <td>13367</td>\n",
       "      <td>928.15</td>\n",
       "    </tr>\n",
       "    <tr>\n",
       "      <th>4</th>\n",
       "      <td>14113</td>\n",
       "      <td>16310</td>\n",
       "      <td>841.80</td>\n",
       "    </tr>\n",
       "  </tbody>\n",
       "</table>\n",
       "</div>"
      ],
      "text/plain": [
       "   carro  sum_alarmes  um_tipes\n",
       "0  14108        47327   1283.95\n",
       "1  14109        21258    969.15\n",
       "2  14111        37114   1049.90\n",
       "3  14112        13367    928.15\n",
       "4  14113        16310    841.80"
      ]
     },
     "execution_count": 28,
     "metadata": {},
     "output_type": "execute_result"
    }
   ],
   "source": [
    "data.head()"
   ]
  },
  {
   "cell_type": "markdown",
   "id": "e52a3193-aa02-4a6b-8f5b-83bc6d50bedb",
   "metadata": {},
   "source": [
    "## calculando o valor entre tipos e soma dos alarmes, esse valor tambem será dado como entrada no modelo"
   ]
  },
  {
   "cell_type": "code",
   "execution_count": 29,
   "id": "63fdd3b0-4bc1-4e3d-bf9e-d4fad987dbd9",
   "metadata": {},
   "outputs": [],
   "source": [
    "l = list(data['sum_alarmes'])\n",
    "l2 = list(data['um_tipes'])\n",
    "total = []"
   ]
  },
  {
   "cell_type": "code",
   "execution_count": 30,
   "id": "f4497b44-a1f3-4040-90e5-88acbb867eab",
   "metadata": {},
   "outputs": [],
   "source": [
    "for i, x in enumerate(l):\n",
    "    total.append(0.00001/100*(x*l2[i]))"
   ]
  },
  {
   "cell_type": "code",
   "execution_count": 31,
   "id": "ba013f5e-0bbc-4246-ae25-172e47308b5f",
   "metadata": {},
   "outputs": [
    {
     "data": {
      "text/plain": [
       "158"
      ]
     },
     "execution_count": 31,
     "metadata": {},
     "output_type": "execute_result"
    }
   ],
   "source": [
    "len(total)"
   ]
  },
  {
   "cell_type": "code",
   "execution_count": 32,
   "id": "4ef5d864-9ea0-47c7-b887-141c88bdb999",
   "metadata": {},
   "outputs": [],
   "source": [
    "data['total_reduced'] =  total"
   ]
  },
  {
   "cell_type": "code",
   "execution_count": 33,
   "id": "704707b8-6a76-4464-8e91-3415437e03f3",
   "metadata": {},
   "outputs": [
    {
     "data": {
      "text/html": [
       "<div>\n",
       "<style scoped>\n",
       "    .dataframe tbody tr th:only-of-type {\n",
       "        vertical-align: middle;\n",
       "    }\n",
       "\n",
       "    .dataframe tbody tr th {\n",
       "        vertical-align: top;\n",
       "    }\n",
       "\n",
       "    .dataframe thead th {\n",
       "        text-align: right;\n",
       "    }\n",
       "</style>\n",
       "<table border=\"1\" class=\"dataframe\">\n",
       "  <thead>\n",
       "    <tr style=\"text-align: right;\">\n",
       "      <th></th>\n",
       "      <th>carro</th>\n",
       "      <th>sum_alarmes</th>\n",
       "      <th>um_tipes</th>\n",
       "      <th>total_reduced</th>\n",
       "    </tr>\n",
       "  </thead>\n",
       "  <tbody>\n",
       "    <tr>\n",
       "      <th>0</th>\n",
       "      <td>14108</td>\n",
       "      <td>47327</td>\n",
       "      <td>1283.95</td>\n",
       "      <td>6.076550</td>\n",
       "    </tr>\n",
       "    <tr>\n",
       "      <th>1</th>\n",
       "      <td>14109</td>\n",
       "      <td>21258</td>\n",
       "      <td>969.15</td>\n",
       "      <td>2.060219</td>\n",
       "    </tr>\n",
       "    <tr>\n",
       "      <th>2</th>\n",
       "      <td>14111</td>\n",
       "      <td>37114</td>\n",
       "      <td>1049.90</td>\n",
       "      <td>3.896599</td>\n",
       "    </tr>\n",
       "    <tr>\n",
       "      <th>3</th>\n",
       "      <td>14112</td>\n",
       "      <td>13367</td>\n",
       "      <td>928.15</td>\n",
       "      <td>1.240658</td>\n",
       "    </tr>\n",
       "    <tr>\n",
       "      <th>4</th>\n",
       "      <td>14113</td>\n",
       "      <td>16310</td>\n",
       "      <td>841.80</td>\n",
       "      <td>1.372976</td>\n",
       "    </tr>\n",
       "  </tbody>\n",
       "</table>\n",
       "</div>"
      ],
      "text/plain": [
       "   carro  sum_alarmes  um_tipes  total_reduced\n",
       "0  14108        47327   1283.95       6.076550\n",
       "1  14109        21258    969.15       2.060219\n",
       "2  14111        37114   1049.90       3.896599\n",
       "3  14112        13367    928.15       1.240658\n",
       "4  14113        16310    841.80       1.372976"
      ]
     },
     "execution_count": 33,
     "metadata": {},
     "output_type": "execute_result"
    }
   ],
   "source": [
    "data.head(5)"
   ]
  },
  {
   "cell_type": "code",
   "execution_count": 34,
   "id": "867bd588-35e9-44e2-a1ab-b7234a978980",
   "metadata": {},
   "outputs": [
    {
     "ename": "KeyError",
     "evalue": "\"['total'] not found in axis\"",
     "output_type": "error",
     "traceback": [
      "\u001b[1;31m---------------------------------------------------------------------------\u001b[0m",
      "\u001b[1;31mKeyError\u001b[0m                                  Traceback (most recent call last)",
      "Input \u001b[1;32mIn [34]\u001b[0m, in \u001b[0;36m<cell line: 1>\u001b[1;34m()\u001b[0m\n\u001b[1;32m----> 1\u001b[0m \u001b[43mdata\u001b[49m\u001b[38;5;241;43m.\u001b[39;49m\u001b[43mdrop\u001b[49m\u001b[43m(\u001b[49m\u001b[43m[\u001b[49m\u001b[38;5;124;43m'\u001b[39;49m\u001b[38;5;124;43mtotal\u001b[39;49m\u001b[38;5;124;43m'\u001b[39;49m\u001b[43m]\u001b[49m\u001b[43m,\u001b[49m\u001b[43m \u001b[49m\u001b[43maxis\u001b[49m\u001b[38;5;241;43m=\u001b[39;49m\u001b[38;5;241;43m1\u001b[39;49m\u001b[43m,\u001b[49m\u001b[43m \u001b[49m\u001b[43minplace\u001b[49m\u001b[38;5;241;43m=\u001b[39;49m\u001b[38;5;28;43;01mTrue\u001b[39;49;00m\u001b[43m)\u001b[49m\n",
      "File \u001b[1;32m~\\anaconda3\\lib\\site-packages\\pandas\\util\\_decorators.py:311\u001b[0m, in \u001b[0;36mdeprecate_nonkeyword_arguments.<locals>.decorate.<locals>.wrapper\u001b[1;34m(*args, **kwargs)\u001b[0m\n\u001b[0;32m    305\u001b[0m \u001b[38;5;28;01mif\u001b[39;00m \u001b[38;5;28mlen\u001b[39m(args) \u001b[38;5;241m>\u001b[39m num_allow_args:\n\u001b[0;32m    306\u001b[0m     warnings\u001b[38;5;241m.\u001b[39mwarn(\n\u001b[0;32m    307\u001b[0m         msg\u001b[38;5;241m.\u001b[39mformat(arguments\u001b[38;5;241m=\u001b[39marguments),\n\u001b[0;32m    308\u001b[0m         \u001b[38;5;167;01mFutureWarning\u001b[39;00m,\n\u001b[0;32m    309\u001b[0m         stacklevel\u001b[38;5;241m=\u001b[39mstacklevel,\n\u001b[0;32m    310\u001b[0m     )\n\u001b[1;32m--> 311\u001b[0m \u001b[38;5;28;01mreturn\u001b[39;00m func(\u001b[38;5;241m*\u001b[39margs, \u001b[38;5;241m*\u001b[39m\u001b[38;5;241m*\u001b[39mkwargs)\n",
      "File \u001b[1;32m~\\anaconda3\\lib\\site-packages\\pandas\\core\\frame.py:4954\u001b[0m, in \u001b[0;36mDataFrame.drop\u001b[1;34m(self, labels, axis, index, columns, level, inplace, errors)\u001b[0m\n\u001b[0;32m   4806\u001b[0m \u001b[38;5;129m@deprecate_nonkeyword_arguments\u001b[39m(version\u001b[38;5;241m=\u001b[39m\u001b[38;5;28;01mNone\u001b[39;00m, allowed_args\u001b[38;5;241m=\u001b[39m[\u001b[38;5;124m\"\u001b[39m\u001b[38;5;124mself\u001b[39m\u001b[38;5;124m\"\u001b[39m, \u001b[38;5;124m\"\u001b[39m\u001b[38;5;124mlabels\u001b[39m\u001b[38;5;124m\"\u001b[39m])\n\u001b[0;32m   4807\u001b[0m \u001b[38;5;28;01mdef\u001b[39;00m \u001b[38;5;21mdrop\u001b[39m(\n\u001b[0;32m   4808\u001b[0m     \u001b[38;5;28mself\u001b[39m,\n\u001b[1;32m   (...)\u001b[0m\n\u001b[0;32m   4815\u001b[0m     errors: \u001b[38;5;28mstr\u001b[39m \u001b[38;5;241m=\u001b[39m \u001b[38;5;124m\"\u001b[39m\u001b[38;5;124mraise\u001b[39m\u001b[38;5;124m\"\u001b[39m,\n\u001b[0;32m   4816\u001b[0m ):\n\u001b[0;32m   4817\u001b[0m     \u001b[38;5;124;03m\"\"\"\u001b[39;00m\n\u001b[0;32m   4818\u001b[0m \u001b[38;5;124;03m    Drop specified labels from rows or columns.\u001b[39;00m\n\u001b[0;32m   4819\u001b[0m \n\u001b[1;32m   (...)\u001b[0m\n\u001b[0;32m   4952\u001b[0m \u001b[38;5;124;03m            weight  1.0     0.8\u001b[39;00m\n\u001b[0;32m   4953\u001b[0m \u001b[38;5;124;03m    \"\"\"\u001b[39;00m\n\u001b[1;32m-> 4954\u001b[0m     \u001b[38;5;28;01mreturn\u001b[39;00m \u001b[38;5;28;43msuper\u001b[39;49m\u001b[43m(\u001b[49m\u001b[43m)\u001b[49m\u001b[38;5;241;43m.\u001b[39;49m\u001b[43mdrop\u001b[49m\u001b[43m(\u001b[49m\n\u001b[0;32m   4955\u001b[0m \u001b[43m        \u001b[49m\u001b[43mlabels\u001b[49m\u001b[38;5;241;43m=\u001b[39;49m\u001b[43mlabels\u001b[49m\u001b[43m,\u001b[49m\n\u001b[0;32m   4956\u001b[0m \u001b[43m        \u001b[49m\u001b[43maxis\u001b[49m\u001b[38;5;241;43m=\u001b[39;49m\u001b[43maxis\u001b[49m\u001b[43m,\u001b[49m\n\u001b[0;32m   4957\u001b[0m \u001b[43m        \u001b[49m\u001b[43mindex\u001b[49m\u001b[38;5;241;43m=\u001b[39;49m\u001b[43mindex\u001b[49m\u001b[43m,\u001b[49m\n\u001b[0;32m   4958\u001b[0m \u001b[43m        \u001b[49m\u001b[43mcolumns\u001b[49m\u001b[38;5;241;43m=\u001b[39;49m\u001b[43mcolumns\u001b[49m\u001b[43m,\u001b[49m\n\u001b[0;32m   4959\u001b[0m \u001b[43m        \u001b[49m\u001b[43mlevel\u001b[49m\u001b[38;5;241;43m=\u001b[39;49m\u001b[43mlevel\u001b[49m\u001b[43m,\u001b[49m\n\u001b[0;32m   4960\u001b[0m \u001b[43m        \u001b[49m\u001b[43minplace\u001b[49m\u001b[38;5;241;43m=\u001b[39;49m\u001b[43minplace\u001b[49m\u001b[43m,\u001b[49m\n\u001b[0;32m   4961\u001b[0m \u001b[43m        \u001b[49m\u001b[43merrors\u001b[49m\u001b[38;5;241;43m=\u001b[39;49m\u001b[43merrors\u001b[49m\u001b[43m,\u001b[49m\n\u001b[0;32m   4962\u001b[0m \u001b[43m    \u001b[49m\u001b[43m)\u001b[49m\n",
      "File \u001b[1;32m~\\anaconda3\\lib\\site-packages\\pandas\\core\\generic.py:4267\u001b[0m, in \u001b[0;36mNDFrame.drop\u001b[1;34m(self, labels, axis, index, columns, level, inplace, errors)\u001b[0m\n\u001b[0;32m   4265\u001b[0m \u001b[38;5;28;01mfor\u001b[39;00m axis, labels \u001b[38;5;129;01min\u001b[39;00m axes\u001b[38;5;241m.\u001b[39mitems():\n\u001b[0;32m   4266\u001b[0m     \u001b[38;5;28;01mif\u001b[39;00m labels \u001b[38;5;129;01mis\u001b[39;00m \u001b[38;5;129;01mnot\u001b[39;00m \u001b[38;5;28;01mNone\u001b[39;00m:\n\u001b[1;32m-> 4267\u001b[0m         obj \u001b[38;5;241m=\u001b[39m \u001b[43mobj\u001b[49m\u001b[38;5;241;43m.\u001b[39;49m\u001b[43m_drop_axis\u001b[49m\u001b[43m(\u001b[49m\u001b[43mlabels\u001b[49m\u001b[43m,\u001b[49m\u001b[43m \u001b[49m\u001b[43maxis\u001b[49m\u001b[43m,\u001b[49m\u001b[43m \u001b[49m\u001b[43mlevel\u001b[49m\u001b[38;5;241;43m=\u001b[39;49m\u001b[43mlevel\u001b[49m\u001b[43m,\u001b[49m\u001b[43m \u001b[49m\u001b[43merrors\u001b[49m\u001b[38;5;241;43m=\u001b[39;49m\u001b[43merrors\u001b[49m\u001b[43m)\u001b[49m\n\u001b[0;32m   4269\u001b[0m \u001b[38;5;28;01mif\u001b[39;00m inplace:\n\u001b[0;32m   4270\u001b[0m     \u001b[38;5;28mself\u001b[39m\u001b[38;5;241m.\u001b[39m_update_inplace(obj)\n",
      "File \u001b[1;32m~\\anaconda3\\lib\\site-packages\\pandas\\core\\generic.py:4311\u001b[0m, in \u001b[0;36mNDFrame._drop_axis\u001b[1;34m(self, labels, axis, level, errors, consolidate, only_slice)\u001b[0m\n\u001b[0;32m   4309\u001b[0m         new_axis \u001b[38;5;241m=\u001b[39m axis\u001b[38;5;241m.\u001b[39mdrop(labels, level\u001b[38;5;241m=\u001b[39mlevel, errors\u001b[38;5;241m=\u001b[39merrors)\n\u001b[0;32m   4310\u001b[0m     \u001b[38;5;28;01melse\u001b[39;00m:\n\u001b[1;32m-> 4311\u001b[0m         new_axis \u001b[38;5;241m=\u001b[39m \u001b[43maxis\u001b[49m\u001b[38;5;241;43m.\u001b[39;49m\u001b[43mdrop\u001b[49m\u001b[43m(\u001b[49m\u001b[43mlabels\u001b[49m\u001b[43m,\u001b[49m\u001b[43m \u001b[49m\u001b[43merrors\u001b[49m\u001b[38;5;241;43m=\u001b[39;49m\u001b[43merrors\u001b[49m\u001b[43m)\u001b[49m\n\u001b[0;32m   4312\u001b[0m     indexer \u001b[38;5;241m=\u001b[39m axis\u001b[38;5;241m.\u001b[39mget_indexer(new_axis)\n\u001b[0;32m   4314\u001b[0m \u001b[38;5;66;03m# Case for non-unique axis\u001b[39;00m\n\u001b[0;32m   4315\u001b[0m \u001b[38;5;28;01melse\u001b[39;00m:\n",
      "File \u001b[1;32m~\\anaconda3\\lib\\site-packages\\pandas\\core\\indexes\\base.py:6644\u001b[0m, in \u001b[0;36mIndex.drop\u001b[1;34m(self, labels, errors)\u001b[0m\n\u001b[0;32m   6642\u001b[0m \u001b[38;5;28;01mif\u001b[39;00m mask\u001b[38;5;241m.\u001b[39many():\n\u001b[0;32m   6643\u001b[0m     \u001b[38;5;28;01mif\u001b[39;00m errors \u001b[38;5;241m!=\u001b[39m \u001b[38;5;124m\"\u001b[39m\u001b[38;5;124mignore\u001b[39m\u001b[38;5;124m\"\u001b[39m:\n\u001b[1;32m-> 6644\u001b[0m         \u001b[38;5;28;01mraise\u001b[39;00m \u001b[38;5;167;01mKeyError\u001b[39;00m(\u001b[38;5;124mf\u001b[39m\u001b[38;5;124m\"\u001b[39m\u001b[38;5;132;01m{\u001b[39;00m\u001b[38;5;28mlist\u001b[39m(labels[mask])\u001b[38;5;132;01m}\u001b[39;00m\u001b[38;5;124m not found in axis\u001b[39m\u001b[38;5;124m\"\u001b[39m)\n\u001b[0;32m   6645\u001b[0m     indexer \u001b[38;5;241m=\u001b[39m indexer[\u001b[38;5;241m~\u001b[39mmask]\n\u001b[0;32m   6646\u001b[0m \u001b[38;5;28;01mreturn\u001b[39;00m \u001b[38;5;28mself\u001b[39m\u001b[38;5;241m.\u001b[39mdelete(indexer)\n",
      "\u001b[1;31mKeyError\u001b[0m: \"['total'] not found in axis\""
     ]
    }
   ],
   "source": [
    "data.drop(['total'], axis=1, inplace=True)"
   ]
  },
  {
   "cell_type": "markdown",
   "id": "3b55a003-9f84-486b-acb5-806b41f3e3d8",
   "metadata": {},
   "source": [
    "### para terminar essa parte, preciso saber a media de alarmes\n",
    "Esse valor será usado para calculo da variavel target do modelo"
   ]
  },
  {
   "cell_type": "code",
   "execution_count": 35,
   "id": "3882306c-6fe6-4038-8751-aaa98725a994",
   "metadata": {},
   "outputs": [],
   "source": [
    "media =  data['sum_alarmes'].mean()"
   ]
  },
  {
   "cell_type": "code",
   "execution_count": 36,
   "id": "471771cb-1f94-4e60-902c-8a25bd02648f",
   "metadata": {},
   "outputs": [
    {
     "data": {
      "text/plain": [
       "28518.03164556962"
      ]
     },
     "execution_count": 36,
     "metadata": {},
     "output_type": "execute_result"
    }
   ],
   "source": [
    "media"
   ]
  },
  {
   "cell_type": "markdown",
   "id": "4adec8c6-d93b-49a2-90ac-b463136d28bf",
   "metadata": {},
   "source": [
    "## Agora vamos partir para o calculo do valor da variavel target\n",
    "#### algumas considerações importantes:\n",
    "Eu não possuo no momento dados sobre os carros que acidentaram no ultimo mês, por essa razão utilizarei dados fictcios baseados em quantidade de alarmes\n",
    "A intenção é que o algoritmo consiga realizar a predição do possivel acidente baseado nos mesmos parametros que usei para simulação de acidente dos veiculos.\n",
    " Assim sendo quando eu possuir dados reais de acidente precisarei voltar a treinar o modelo para que ele identifique os reais padroes de acidente\n",
    " Estou usando o valor dos alarmes subtraido o valor da media, caso o valor seja acima da media, o veiculo passara a ter o valor ultrapassado da media convertido em valores percentuais, de chance de se envolver em acidente, caso contrario, teremos a operação inversa informado que o veiculo possui chances baixissimas de se envolver em um acidente, isso tudo baseado nos alarmes coletados pela telemetria"
   ]
  },
  {
   "cell_type": "code",
   "execution_count": 37,
   "id": "3f47e4c5-d15b-4491-9e56-9ad0a7e7caef",
   "metadata": {},
   "outputs": [],
   "source": [
    "def calc_chance(valor,p):\n",
    "    p = valor*100/p\n",
    "    p = round(p,2)\n",
    "    return p"
   ]
  },
  {
   "cell_type": "code",
   "execution_count": 38,
   "id": "3480c45c-f5aa-409e-ae16-13404bb1ebaa",
   "metadata": {},
   "outputs": [],
   "source": [
    "#variavel target precisa saber o percentual de chances do veiculo se envolver em acidentes:\n",
    "\n",
    "target = []\n",
    "for x in data['sum_alarmes']:\n",
    "   \n",
    "    if x > media:\n",
    "        p = calc_chance((x-media),x)\n",
    "        target.append(p)\n",
    "    else:\n",
    "        p = calc_chance((x-media),x)\n",
    "      \n",
    "        \n",
    "        target.append(round(rnd.random(),2))\n",
    "     \n"
   ]
  },
  {
   "cell_type": "code",
   "execution_count": 39,
   "id": "39ead684-4428-407e-9a5e-ab0e5b458681",
   "metadata": {},
   "outputs": [],
   "source": [
    "data['acidente'] =  target"
   ]
  },
  {
   "cell_type": "code",
   "execution_count": 40,
   "id": "cadebe25-4c7f-47dc-b517-0cbc8b1f81b4",
   "metadata": {},
   "outputs": [
    {
     "data": {
      "text/html": [
       "<div>\n",
       "<style scoped>\n",
       "    .dataframe tbody tr th:only-of-type {\n",
       "        vertical-align: middle;\n",
       "    }\n",
       "\n",
       "    .dataframe tbody tr th {\n",
       "        vertical-align: top;\n",
       "    }\n",
       "\n",
       "    .dataframe thead th {\n",
       "        text-align: right;\n",
       "    }\n",
       "</style>\n",
       "<table border=\"1\" class=\"dataframe\">\n",
       "  <thead>\n",
       "    <tr style=\"text-align: right;\">\n",
       "      <th></th>\n",
       "      <th>carro</th>\n",
       "      <th>sum_alarmes</th>\n",
       "      <th>um_tipes</th>\n",
       "      <th>total_reduced</th>\n",
       "      <th>acidente</th>\n",
       "    </tr>\n",
       "  </thead>\n",
       "  <tbody>\n",
       "    <tr>\n",
       "      <th>0</th>\n",
       "      <td>14108</td>\n",
       "      <td>47327</td>\n",
       "      <td>1283.95</td>\n",
       "      <td>6.076550</td>\n",
       "      <td>39.74</td>\n",
       "    </tr>\n",
       "    <tr>\n",
       "      <th>1</th>\n",
       "      <td>14109</td>\n",
       "      <td>21258</td>\n",
       "      <td>969.15</td>\n",
       "      <td>2.060219</td>\n",
       "      <td>0.20</td>\n",
       "    </tr>\n",
       "    <tr>\n",
       "      <th>2</th>\n",
       "      <td>14111</td>\n",
       "      <td>37114</td>\n",
       "      <td>1049.90</td>\n",
       "      <td>3.896599</td>\n",
       "      <td>23.16</td>\n",
       "    </tr>\n",
       "    <tr>\n",
       "      <th>3</th>\n",
       "      <td>14112</td>\n",
       "      <td>13367</td>\n",
       "      <td>928.15</td>\n",
       "      <td>1.240658</td>\n",
       "      <td>0.73</td>\n",
       "    </tr>\n",
       "    <tr>\n",
       "      <th>4</th>\n",
       "      <td>14113</td>\n",
       "      <td>16310</td>\n",
       "      <td>841.80</td>\n",
       "      <td>1.372976</td>\n",
       "      <td>0.95</td>\n",
       "    </tr>\n",
       "    <tr>\n",
       "      <th>...</th>\n",
       "      <td>...</td>\n",
       "      <td>...</td>\n",
       "      <td>...</td>\n",
       "      <td>...</td>\n",
       "      <td>...</td>\n",
       "    </tr>\n",
       "    <tr>\n",
       "      <th>153</th>\n",
       "      <td>14126</td>\n",
       "      <td>49041</td>\n",
       "      <td>1383.05</td>\n",
       "      <td>6.782616</td>\n",
       "      <td>41.85</td>\n",
       "    </tr>\n",
       "    <tr>\n",
       "      <th>154</th>\n",
       "      <td>14174</td>\n",
       "      <td>17253</td>\n",
       "      <td>1106.20</td>\n",
       "      <td>1.908527</td>\n",
       "      <td>0.29</td>\n",
       "    </tr>\n",
       "    <tr>\n",
       "      <th>155</th>\n",
       "      <td>14196</td>\n",
       "      <td>35207</td>\n",
       "      <td>1296.55</td>\n",
       "      <td>4.564764</td>\n",
       "      <td>19.00</td>\n",
       "    </tr>\n",
       "    <tr>\n",
       "      <th>156</th>\n",
       "      <td>14143</td>\n",
       "      <td>13147</td>\n",
       "      <td>613.00</td>\n",
       "      <td>0.805911</td>\n",
       "      <td>0.75</td>\n",
       "    </tr>\n",
       "    <tr>\n",
       "      <th>157</th>\n",
       "      <td>14169</td>\n",
       "      <td>7922</td>\n",
       "      <td>1017.65</td>\n",
       "      <td>0.806182</td>\n",
       "      <td>0.33</td>\n",
       "    </tr>\n",
       "  </tbody>\n",
       "</table>\n",
       "<p>158 rows × 5 columns</p>\n",
       "</div>"
      ],
      "text/plain": [
       "     carro  sum_alarmes  um_tipes  total_reduced  acidente\n",
       "0    14108        47327   1283.95       6.076550     39.74\n",
       "1    14109        21258    969.15       2.060219      0.20\n",
       "2    14111        37114   1049.90       3.896599     23.16\n",
       "3    14112        13367    928.15       1.240658      0.73\n",
       "4    14113        16310    841.80       1.372976      0.95\n",
       "..     ...          ...       ...            ...       ...\n",
       "153  14126        49041   1383.05       6.782616     41.85\n",
       "154  14174        17253   1106.20       1.908527      0.29\n",
       "155  14196        35207   1296.55       4.564764     19.00\n",
       "156  14143        13147    613.00       0.805911      0.75\n",
       "157  14169         7922   1017.65       0.806182      0.33\n",
       "\n",
       "[158 rows x 5 columns]"
      ]
     },
     "execution_count": 40,
     "metadata": {},
     "output_type": "execute_result"
    }
   ],
   "source": [
    "data"
   ]
  },
  {
   "cell_type": "code",
   "execution_count": 41,
   "id": "930c509d-36db-4a2c-8171-a673eb3ca36c",
   "metadata": {},
   "outputs": [
    {
     "data": {
      "text/html": [
       "<div>\n",
       "<style scoped>\n",
       "    .dataframe tbody tr th:only-of-type {\n",
       "        vertical-align: middle;\n",
       "    }\n",
       "\n",
       "    .dataframe tbody tr th {\n",
       "        vertical-align: top;\n",
       "    }\n",
       "\n",
       "    .dataframe thead th {\n",
       "        text-align: right;\n",
       "    }\n",
       "</style>\n",
       "<table border=\"1\" class=\"dataframe\">\n",
       "  <thead>\n",
       "    <tr style=\"text-align: right;\">\n",
       "      <th></th>\n",
       "      <th>carro</th>\n",
       "      <th>sum_alarmes</th>\n",
       "      <th>um_tipes</th>\n",
       "      <th>total_reduced</th>\n",
       "      <th>acidente</th>\n",
       "    </tr>\n",
       "  </thead>\n",
       "  <tbody>\n",
       "    <tr>\n",
       "      <th>0</th>\n",
       "      <td>14108</td>\n",
       "      <td>47327</td>\n",
       "      <td>1283.95</td>\n",
       "      <td>6.076550</td>\n",
       "      <td>39.74</td>\n",
       "    </tr>\n",
       "    <tr>\n",
       "      <th>1</th>\n",
       "      <td>14109</td>\n",
       "      <td>21258</td>\n",
       "      <td>969.15</td>\n",
       "      <td>2.060219</td>\n",
       "      <td>0.20</td>\n",
       "    </tr>\n",
       "    <tr>\n",
       "      <th>2</th>\n",
       "      <td>14111</td>\n",
       "      <td>37114</td>\n",
       "      <td>1049.90</td>\n",
       "      <td>3.896599</td>\n",
       "      <td>23.16</td>\n",
       "    </tr>\n",
       "    <tr>\n",
       "      <th>3</th>\n",
       "      <td>14112</td>\n",
       "      <td>13367</td>\n",
       "      <td>928.15</td>\n",
       "      <td>1.240658</td>\n",
       "      <td>0.73</td>\n",
       "    </tr>\n",
       "    <tr>\n",
       "      <th>4</th>\n",
       "      <td>14113</td>\n",
       "      <td>16310</td>\n",
       "      <td>841.80</td>\n",
       "      <td>1.372976</td>\n",
       "      <td>0.95</td>\n",
       "    </tr>\n",
       "  </tbody>\n",
       "</table>\n",
       "</div>"
      ],
      "text/plain": [
       "   carro  sum_alarmes  um_tipes  total_reduced  acidente\n",
       "0  14108        47327   1283.95       6.076550     39.74\n",
       "1  14109        21258    969.15       2.060219      0.20\n",
       "2  14111        37114   1049.90       3.896599     23.16\n",
       "3  14112        13367    928.15       1.240658      0.73\n",
       "4  14113        16310    841.80       1.372976      0.95"
      ]
     },
     "execution_count": 41,
     "metadata": {},
     "output_type": "execute_result"
    }
   ],
   "source": [
    "#vamos verificar o nosso data set\n",
    "data.head()"
   ]
  },
  {
   "cell_type": "code",
   "execution_count": 42,
   "id": "47dcdb8b-12f5-4a9e-b526-e547071216d8",
   "metadata": {},
   "outputs": [
    {
     "data": {
      "text/html": [
       "<div>\n",
       "<style scoped>\n",
       "    .dataframe tbody tr th:only-of-type {\n",
       "        vertical-align: middle;\n",
       "    }\n",
       "\n",
       "    .dataframe tbody tr th {\n",
       "        vertical-align: top;\n",
       "    }\n",
       "\n",
       "    .dataframe thead th {\n",
       "        text-align: right;\n",
       "    }\n",
       "</style>\n",
       "<table border=\"1\" class=\"dataframe\">\n",
       "  <thead>\n",
       "    <tr style=\"text-align: right;\">\n",
       "      <th></th>\n",
       "      <th>carro</th>\n",
       "      <th>sum_alarmes</th>\n",
       "      <th>um_tipes</th>\n",
       "      <th>total_reduced</th>\n",
       "      <th>acidente</th>\n",
       "    </tr>\n",
       "  </thead>\n",
       "  <tbody>\n",
       "    <tr>\n",
       "      <th>153</th>\n",
       "      <td>14126</td>\n",
       "      <td>49041</td>\n",
       "      <td>1383.05</td>\n",
       "      <td>6.782616</td>\n",
       "      <td>41.85</td>\n",
       "    </tr>\n",
       "    <tr>\n",
       "      <th>154</th>\n",
       "      <td>14174</td>\n",
       "      <td>17253</td>\n",
       "      <td>1106.20</td>\n",
       "      <td>1.908527</td>\n",
       "      <td>0.29</td>\n",
       "    </tr>\n",
       "    <tr>\n",
       "      <th>155</th>\n",
       "      <td>14196</td>\n",
       "      <td>35207</td>\n",
       "      <td>1296.55</td>\n",
       "      <td>4.564764</td>\n",
       "      <td>19.00</td>\n",
       "    </tr>\n",
       "    <tr>\n",
       "      <th>156</th>\n",
       "      <td>14143</td>\n",
       "      <td>13147</td>\n",
       "      <td>613.00</td>\n",
       "      <td>0.805911</td>\n",
       "      <td>0.75</td>\n",
       "    </tr>\n",
       "    <tr>\n",
       "      <th>157</th>\n",
       "      <td>14169</td>\n",
       "      <td>7922</td>\n",
       "      <td>1017.65</td>\n",
       "      <td>0.806182</td>\n",
       "      <td>0.33</td>\n",
       "    </tr>\n",
       "  </tbody>\n",
       "</table>\n",
       "</div>"
      ],
      "text/plain": [
       "     carro  sum_alarmes  um_tipes  total_reduced  acidente\n",
       "153  14126        49041   1383.05       6.782616     41.85\n",
       "154  14174        17253   1106.20       1.908527      0.29\n",
       "155  14196        35207   1296.55       4.564764     19.00\n",
       "156  14143        13147    613.00       0.805911      0.75\n",
       "157  14169         7922   1017.65       0.806182      0.33"
      ]
     },
     "execution_count": 42,
     "metadata": {},
     "output_type": "execute_result"
    }
   ],
   "source": [
    "data.tail(5)"
   ]
  },
  {
   "cell_type": "code",
   "execution_count": 43,
   "id": "232a8140-9be3-4fdf-b96e-b24397d77a00",
   "metadata": {},
   "outputs": [
    {
     "data": {
      "text/plain": [
       "<AxesSubplot:>"
      ]
     },
     "execution_count": 43,
     "metadata": {},
     "output_type": "execute_result"
    },
    {
     "data": {
      "image/png": "[encoded data removed]",
      "text/plain": [
       "<Figure size 432x288 with 1 Axes>"
      ]
     },
     "metadata": {
      "needs_background": "light"
     },
     "output_type": "display_data"
    }
   ],
   "source": [
    "data.plot()\n"
   ]
  },
  {
   "cell_type": "code",
   "execution_count": 46,
   "id": "b93b9144-7ab1-40a7-a2dc-f26fab1eef3c",
   "metadata": {},
   "outputs": [],
   "source": [
    "#dentificando correlaçao entre variaveis\n",
    "#correlação não implica causualidade\n",
    "def plot_corr(df, size=10):\n",
    "    corr = df.corr()    \n",
    "    fig, ax = plt.subplots(figsize = (size, size))\n",
    "    ax.matshow(corr)  \n",
    "    plt.xticks(range(len(corr.columns)), corr.columns) \n",
    "    plt.yticks(range(len(corr.columns)), corr.columns) "
   ]
  },
  {
   "cell_type": "code",
   "execution_count": 47,
   "id": "41a178a0-d740-472a-9e0f-82481783349c",
   "metadata": {},
   "outputs": [
    {
     "data": {
      "image/png": "[encoded data removed]",
      "text/plain": [
       "<Figure size 720x720 with 1 Axes>"
      ]
     },
     "metadata": {
      "needs_background": "light"
     },
     "output_type": "display_data"
    }
   ],
   "source": [
    "plot_corr(data)"
   ]
  },
  {
   "cell_type": "code",
   "execution_count": 48,
   "id": "6294b05a-605c-4bde-9bbf-046ab71376dc",
   "metadata": {},
   "outputs": [
    {
     "data": {
      "text/html": [
       "<div>\n",
       "<style scoped>\n",
       "    .dataframe tbody tr th:only-of-type {\n",
       "        vertical-align: middle;\n",
       "    }\n",
       "\n",
       "    .dataframe tbody tr th {\n",
       "        vertical-align: top;\n",
       "    }\n",
       "\n",
       "    .dataframe thead th {\n",
       "        text-align: right;\n",
       "    }\n",
       "</style>\n",
       "<table border=\"1\" class=\"dataframe\">\n",
       "  <thead>\n",
       "    <tr style=\"text-align: right;\">\n",
       "      <th></th>\n",
       "      <th>carro</th>\n",
       "      <th>sum_alarmes</th>\n",
       "      <th>um_tipes</th>\n",
       "      <th>total_reduced</th>\n",
       "      <th>acidente</th>\n",
       "    </tr>\n",
       "  </thead>\n",
       "  <tbody>\n",
       "    <tr>\n",
       "      <th>carro</th>\n",
       "      <td>1.000000</td>\n",
       "      <td>-0.112296</td>\n",
       "      <td>-0.001475</td>\n",
       "      <td>-0.063293</td>\n",
       "      <td>-0.134917</td>\n",
       "    </tr>\n",
       "    <tr>\n",
       "      <th>sum_alarmes</th>\n",
       "      <td>-0.112296</td>\n",
       "      <td>1.000000</td>\n",
       "      <td>0.684384</td>\n",
       "      <td>0.929962</td>\n",
       "      <td>0.922034</td>\n",
       "    </tr>\n",
       "    <tr>\n",
       "      <th>um_tipes</th>\n",
       "      <td>-0.001475</td>\n",
       "      <td>0.684384</td>\n",
       "      <td>1.000000</td>\n",
       "      <td>0.754214</td>\n",
       "      <td>0.533348</td>\n",
       "    </tr>\n",
       "    <tr>\n",
       "      <th>total_reduced</th>\n",
       "      <td>-0.063293</td>\n",
       "      <td>0.929962</td>\n",
       "      <td>0.754214</td>\n",
       "      <td>1.000000</td>\n",
       "      <td>0.827427</td>\n",
       "    </tr>\n",
       "    <tr>\n",
       "      <th>acidente</th>\n",
       "      <td>-0.134917</td>\n",
       "      <td>0.922034</td>\n",
       "      <td>0.533348</td>\n",
       "      <td>0.827427</td>\n",
       "      <td>1.000000</td>\n",
       "    </tr>\n",
       "  </tbody>\n",
       "</table>\n",
       "</div>"
      ],
      "text/plain": [
       "                  carro  sum_alarmes  um_tipes  total_reduced  acidente\n",
       "carro          1.000000    -0.112296 -0.001475      -0.063293 -0.134917\n",
       "sum_alarmes   -0.112296     1.000000  0.684384       0.929962  0.922034\n",
       "um_tipes      -0.001475     0.684384  1.000000       0.754214  0.533348\n",
       "total_reduced -0.063293     0.929962  0.754214       1.000000  0.827427\n",
       "acidente      -0.134917     0.922034  0.533348       0.827427  1.000000"
      ]
     },
     "execution_count": 48,
     "metadata": {},
     "output_type": "execute_result"
    }
   ],
   "source": [
    "# Visualizando a correlação em tabela\n",
    "# Coeficiente de correlação: \n",
    "# +1  = forte correlação positiva-- se  valor de uma variavel aumenta o valor da  outra tambem aumenta\n",
    "# 0   = não há correlação \n",
    "# -1  = forte correlação negativa -- se o valor de uma variavel aumenta o valor de outra variavel diminui\n",
    "data.corr()"
   ]
  },
  {
   "cell_type": "markdown",
   "id": "141b3c0e-8d4d-47b8-9b1a-9ad2a6c4f3b7",
   "metadata": {},
   "source": [
    "## Spliting"
   ]
  },
  {
   "cell_type": "code",
   "execution_count": 49,
   "id": "ecd9b530-f8f0-46ea-8e1d-9e9e8c2df6e8",
   "metadata": {},
   "outputs": [
    {
     "data": {
      "text/plain": [
       "'1.0.2'"
      ]
     },
     "execution_count": 49,
     "metadata": {},
     "output_type": "execute_result"
    }
   ],
   "source": [
    "import sklearn as sk\n",
    "sk.__version__"
   ]
  },
  {
   "cell_type": "code",
   "execution_count": 50,
   "id": "0c58c9bf-5b0d-4633-9ab1-95f93682e6e6",
   "metadata": {},
   "outputs": [],
   "source": [
    "from sklearn.model_selection import train_test_split"
   ]
  },
  {
   "cell_type": "code",
   "execution_count": 51,
   "id": "ed8240cf-bc6b-4816-a903-ba8abd831f04",
   "metadata": {},
   "outputs": [
    {
     "data": {
      "text/html": [
       "<div>\n",
       "<style scoped>\n",
       "    .dataframe tbody tr th:only-of-type {\n",
       "        vertical-align: middle;\n",
       "    }\n",
       "\n",
       "    .dataframe tbody tr th {\n",
       "        vertical-align: top;\n",
       "    }\n",
       "\n",
       "    .dataframe thead th {\n",
       "        text-align: right;\n",
       "    }\n",
       "</style>\n",
       "<table border=\"1\" class=\"dataframe\">\n",
       "  <thead>\n",
       "    <tr style=\"text-align: right;\">\n",
       "      <th></th>\n",
       "      <th>carro</th>\n",
       "      <th>sum_alarmes</th>\n",
       "      <th>um_tipes</th>\n",
       "      <th>total_reduced</th>\n",
       "      <th>acidente</th>\n",
       "    </tr>\n",
       "  </thead>\n",
       "  <tbody>\n",
       "    <tr>\n",
       "      <th>0</th>\n",
       "      <td>14108</td>\n",
       "      <td>47327</td>\n",
       "      <td>1283.95</td>\n",
       "      <td>6.076550</td>\n",
       "      <td>39.74</td>\n",
       "    </tr>\n",
       "    <tr>\n",
       "      <th>1</th>\n",
       "      <td>14109</td>\n",
       "      <td>21258</td>\n",
       "      <td>969.15</td>\n",
       "      <td>2.060219</td>\n",
       "      <td>0.20</td>\n",
       "    </tr>\n",
       "  </tbody>\n",
       "</table>\n",
       "</div>"
      ],
      "text/plain": [
       "   carro  sum_alarmes  um_tipes  total_reduced  acidente\n",
       "0  14108        47327   1283.95       6.076550     39.74\n",
       "1  14109        21258    969.15       2.060219      0.20"
      ]
     },
     "execution_count": 51,
     "metadata": {},
     "output_type": "execute_result"
    }
   ],
   "source": [
    "data.head(2)"
   ]
  },
  {
   "cell_type": "code",
   "execution_count": 121,
   "id": "bf4c6155-e234-4ac7-9e93-89c93d9662b9",
   "metadata": {},
   "outputs": [],
   "source": [
    "#vamos tentar reduzir casas decimais no total_reduced\n",
    "data['total_reduced'] = round(data['total_reduced'])"
   ]
  },
  {
   "cell_type": "code",
   "execution_count": 122,
   "id": "36e220b5-347c-4bd6-8fa1-0c3eaf21356f",
   "metadata": {},
   "outputs": [
    {
     "data": {
      "text/html": [
       "<div>\n",
       "<style scoped>\n",
       "    .dataframe tbody tr th:only-of-type {\n",
       "        vertical-align: middle;\n",
       "    }\n",
       "\n",
       "    .dataframe tbody tr th {\n",
       "        vertical-align: top;\n",
       "    }\n",
       "\n",
       "    .dataframe thead th {\n",
       "        text-align: right;\n",
       "    }\n",
       "</style>\n",
       "<table border=\"1\" class=\"dataframe\">\n",
       "  <thead>\n",
       "    <tr style=\"text-align: right;\">\n",
       "      <th></th>\n",
       "      <th>carro</th>\n",
       "      <th>sum_alarmes</th>\n",
       "      <th>um_tipes</th>\n",
       "      <th>total_reduced</th>\n",
       "      <th>acidente</th>\n",
       "    </tr>\n",
       "  </thead>\n",
       "  <tbody>\n",
       "    <tr>\n",
       "      <th>0</th>\n",
       "      <td>14108</td>\n",
       "      <td>47327</td>\n",
       "      <td>1283.95</td>\n",
       "      <td>6.0</td>\n",
       "      <td>39.74</td>\n",
       "    </tr>\n",
       "    <tr>\n",
       "      <th>1</th>\n",
       "      <td>14109</td>\n",
       "      <td>21258</td>\n",
       "      <td>969.15</td>\n",
       "      <td>2.0</td>\n",
       "      <td>0.20</td>\n",
       "    </tr>\n",
       "    <tr>\n",
       "      <th>2</th>\n",
       "      <td>14111</td>\n",
       "      <td>37114</td>\n",
       "      <td>1049.90</td>\n",
       "      <td>4.0</td>\n",
       "      <td>23.16</td>\n",
       "    </tr>\n",
       "    <tr>\n",
       "      <th>3</th>\n",
       "      <td>14112</td>\n",
       "      <td>13367</td>\n",
       "      <td>928.15</td>\n",
       "      <td>1.0</td>\n",
       "      <td>0.73</td>\n",
       "    </tr>\n",
       "    <tr>\n",
       "      <th>4</th>\n",
       "      <td>14113</td>\n",
       "      <td>16310</td>\n",
       "      <td>841.80</td>\n",
       "      <td>1.0</td>\n",
       "      <td>0.95</td>\n",
       "    </tr>\n",
       "  </tbody>\n",
       "</table>\n",
       "</div>"
      ],
      "text/plain": [
       "   carro  sum_alarmes  um_tipes  total_reduced  acidente\n",
       "0  14108        47327   1283.95            6.0     39.74\n",
       "1  14109        21258    969.15            2.0      0.20\n",
       "2  14111        37114   1049.90            4.0     23.16\n",
       "3  14112        13367    928.15            1.0      0.73\n",
       "4  14113        16310    841.80            1.0      0.95"
      ]
     },
     "execution_count": 122,
     "metadata": {},
     "output_type": "execute_result"
    }
   ],
   "source": [
    "data.head()"
   ]
  },
  {
   "cell_type": "code",
   "execution_count": 135,
   "id": "2f4eefec-ceed-4261-9644-43d4c936d721",
   "metadata": {},
   "outputs": [],
   "source": [
    "#criando nosso conjunto de entrada e saida\n",
    "entrada= ['sum_alarmes','um_tipes','total_reduced']\n",
    "saida = ['acidente']"
   ]
  },
  {
   "cell_type": "code",
   "execution_count": 170,
   "id": "176eb9b0-0fe3-46fe-b9b8-8da293537b4d",
   "metadata": {},
   "outputs": [],
   "source": [
    "# Criando objetos\n",
    "x = data[entrada].values\n",
    "y = data[saida].values\n",
    "y=y.astype('int')"
   ]
  },
  {
   "cell_type": "code",
   "execution_count": 171,
   "id": "394f9d4b-cf71-4942-ae43-5db91c6dc21b",
   "metadata": {},
   "outputs": [
    {
     "data": {
      "text/plain": [
       "array([[4.73270e+04, 1.28395e+03, 6.00000e+00],\n",
       "       [2.12580e+04, 9.69150e+02, 2.00000e+00],\n",
       "       [3.71140e+04, 1.04990e+03, 4.00000e+00],\n",
       "       [1.33670e+04, 9.28150e+02, 1.00000e+00],\n",
       "       [1.63100e+04, 8.41800e+02, 1.00000e+00],\n",
       "       [5.67610e+04, 1.50125e+03, 9.00000e+00],\n",
       "       [1.53010e+04, 9.45250e+02, 1.00000e+00],\n",
       "       [3.44320e+04, 1.32115e+03, 5.00000e+00],\n",
       "       [1.70770e+04, 1.16260e+03, 2.00000e+00],\n",
       "       [4.46940e+04, 1.02725e+03, 5.00000e+00],\n",
       "       [8.47010e+04, 1.98135e+03, 1.70000e+01],\n",
       "       [3.03840e+04, 1.16450e+03, 4.00000e+00],\n",
       "       [2.55560e+04, 1.47180e+03, 4.00000e+00],\n",
       "       [1.46720e+04, 1.06875e+03, 2.00000e+00],\n",
       "       [4.25540e+04, 1.21130e+03, 5.00000e+00],\n",
       "       [5.35300e+04, 1.50630e+03, 8.00000e+00],\n",
       "       [2.84470e+04, 1.35130e+03, 4.00000e+00],\n",
       "       [5.81010e+04, 8.85100e+02, 5.00000e+00],\n",
       "       [2.99360e+04, 1.08910e+03, 3.00000e+00],\n",
       "       [1.19630e+04, 9.00150e+02, 1.00000e+00],\n",
       "       [3.89590e+04, 2.08925e+03, 8.00000e+00],\n",
       "       [3.56800e+03, 4.05350e+02, 0.00000e+00],\n",
       "       [2.95450e+04, 1.54975e+03, 5.00000e+00],\n",
       "       [3.57700e+03, 5.49200e+02, 0.00000e+00],\n",
       "       [3.44680e+04, 1.45605e+03, 5.00000e+00],\n",
       "       [1.41630e+04, 1.37625e+03, 2.00000e+00],\n",
       "       [3.14730e+04, 1.97125e+03, 6.00000e+00],\n",
       "       [3.78950e+04, 1.95580e+03, 7.00000e+00],\n",
       "       [1.18880e+04, 8.68850e+02, 1.00000e+00],\n",
       "       [4.89400e+04, 1.35850e+03, 7.00000e+00],\n",
       "       [2.89460e+04, 8.93150e+02, 3.00000e+00],\n",
       "       [2.46200e+03, 1.83000e+02, 0.00000e+00],\n",
       "       [4.95360e+04, 1.16260e+03, 6.00000e+00],\n",
       "       [7.13010e+04, 1.78140e+03, 1.30000e+01],\n",
       "       [3.63580e+04, 1.07805e+03, 4.00000e+00],\n",
       "       [7.97590e+04, 1.02900e+03, 8.00000e+00],\n",
       "       [1.44030e+04, 5.98400e+02, 1.00000e+00],\n",
       "       [2.49550e+04, 1.19530e+03, 3.00000e+00],\n",
       "       [5.21180e+04, 1.38860e+03, 7.00000e+00],\n",
       "       [3.99520e+04, 1.13830e+03, 5.00000e+00],\n",
       "       [4.81940e+04, 1.24500e+03, 6.00000e+00],\n",
       "       [7.90460e+04, 1.51955e+03, 1.20000e+01],\n",
       "       [4.19010e+04, 1.35245e+03, 6.00000e+00],\n",
       "       [2.23820e+04, 1.36365e+03, 3.00000e+00],\n",
       "       [2.88090e+04, 1.20655e+03, 3.00000e+00],\n",
       "       [9.53830e+04, 2.14085e+03, 2.00000e+01],\n",
       "       [3.59090e+04, 1.58695e+03, 6.00000e+00],\n",
       "       [2.97530e+04, 9.42350e+02, 3.00000e+00],\n",
       "       [9.13200e+03, 7.67650e+02, 1.00000e+00],\n",
       "       [2.21350e+04, 1.68330e+03, 4.00000e+00],\n",
       "       [5.22500e+03, 7.64750e+02, 0.00000e+00],\n",
       "       [3.20150e+04, 8.21550e+02, 3.00000e+00],\n",
       "       [1.14670e+04, 7.79750e+02, 1.00000e+00],\n",
       "       [3.31430e+04, 1.22295e+03, 4.00000e+00],\n",
       "       [8.68500e+03, 1.85300e+02, 0.00000e+00],\n",
       "       [1.03270e+04, 7.73800e+02, 1.00000e+00],\n",
       "       [2.02660e+04, 1.36660e+03, 3.00000e+00],\n",
       "       [6.06360e+04, 1.55890e+03, 9.00000e+00],\n",
       "       [2.51670e+04, 1.16865e+03, 3.00000e+00],\n",
       "       [2.29350e+04, 1.08900e+03, 2.00000e+00],\n",
       "       [2.11580e+04, 1.21675e+03, 3.00000e+00],\n",
       "       [2.60510e+04, 1.55130e+03, 4.00000e+00],\n",
       "       [8.38100e+03, 6.32100e+02, 1.00000e+00],\n",
       "       [2.30000e+04, 1.46720e+03, 3.00000e+00],\n",
       "       [9.80000e+03, 1.45875e+03, 1.00000e+00],\n",
       "       [3.04280e+04, 1.11825e+03, 3.00000e+00],\n",
       "       [1.11080e+04, 9.51500e+02, 1.00000e+00],\n",
       "       [3.22100e+03, 1.99000e+02, 0.00000e+00],\n",
       "       [1.13310e+04, 1.03875e+03, 1.00000e+00],\n",
       "       [1.08720e+04, 1.26825e+03, 1.00000e+00],\n",
       "       [3.01700e+03, 4.70250e+02, 0.00000e+00],\n",
       "       [2.33440e+04, 8.91000e+02, 2.00000e+00],\n",
       "       [2.84910e+04, 2.17200e+03, 6.00000e+00],\n",
       "       [1.11250e+04, 8.82000e+02, 1.00000e+00],\n",
       "       [1.03050e+04, 9.73750e+02, 1.00000e+00],\n",
       "       [2.09670e+04, 1.05225e+03, 2.00000e+00],\n",
       "       [1.85630e+04, 1.02825e+03, 2.00000e+00],\n",
       "       [1.82480e+04, 8.71750e+02, 2.00000e+00],\n",
       "       [2.59950e+04, 1.36860e+03, 4.00000e+00],\n",
       "       [9.00600e+03, 5.07250e+02, 0.00000e+00],\n",
       "       [1.62710e+04, 4.29500e+02, 1.00000e+00],\n",
       "       [9.47700e+03, 1.10485e+03, 1.00000e+00],\n",
       "       [2.75860e+04, 9.89000e+02, 3.00000e+00],\n",
       "       [1.40960e+04, 7.79250e+02, 1.00000e+00],\n",
       "       [3.71370e+04, 1.70185e+03, 6.00000e+00],\n",
       "       [1.64540e+04, 8.75250e+02, 1.00000e+00],\n",
       "       [5.52210e+04, 2.09000e+03, 1.20000e+01],\n",
       "       [2.41780e+04, 9.29250e+02, 2.00000e+00],\n",
       "       [3.31700e+03, 3.78250e+02, 0.00000e+00],\n",
       "       [2.16890e+04, 8.71500e+02, 2.00000e+00],\n",
       "       [2.49680e+04, 8.55000e+02, 2.00000e+00],\n",
       "       [2.49720e+04, 1.00435e+03, 3.00000e+00],\n",
       "       [2.69180e+04, 7.00750e+02, 2.00000e+00],\n",
       "       [3.52550e+04, 1.53200e+03, 5.00000e+00],\n",
       "       [2.75930e+04, 9.49750e+02, 3.00000e+00],\n",
       "       [3.00820e+04, 9.58750e+02, 3.00000e+00],\n",
       "       [1.88680e+04, 1.25900e+03, 2.00000e+00],\n",
       "       [2.49180e+04, 9.72850e+02, 2.00000e+00],\n",
       "       [1.63930e+04, 7.93000e+02, 1.00000e+00],\n",
       "       [5.46710e+04, 1.02825e+03, 6.00000e+00],\n",
       "       [1.06400e+04, 9.62950e+02, 1.00000e+00],\n",
       "       [1.29070e+04, 1.23125e+03, 2.00000e+00],\n",
       "       [1.16490e+04, 1.21825e+03, 1.00000e+00],\n",
       "       [2.99410e+04, 1.44510e+03, 4.00000e+00],\n",
       "       [3.14300e+03, 7.12000e+02, 0.00000e+00],\n",
       "       [2.90840e+04, 1.87780e+03, 5.00000e+00],\n",
       "       [1.84930e+04, 1.33325e+03, 2.00000e+00],\n",
       "       [9.42600e+03, 7.97750e+02, 1.00000e+00],\n",
       "       [6.44200e+03, 7.79000e+02, 1.00000e+00],\n",
       "       [4.32600e+03, 8.28750e+02, 0.00000e+00],\n",
       "       [1.04140e+04, 1.43650e+03, 1.00000e+00],\n",
       "       [3.18270e+04, 1.16650e+03, 4.00000e+00],\n",
       "       [6.59600e+03, 6.04500e+02, 0.00000e+00],\n",
       "       [1.31410e+04, 1.34880e+03, 2.00000e+00],\n",
       "       [6.47500e+03, 1.76000e+02, 0.00000e+00],\n",
       "       [1.15550e+04, 7.43000e+02, 1.00000e+00],\n",
       "       [1.50710e+04, 8.02500e+02, 1.00000e+00],\n",
       "       [4.69730e+04, 1.43695e+03, 7.00000e+00],\n",
       "       [2.28350e+04, 1.85090e+03, 4.00000e+00],\n",
       "       [7.04010e+04, 1.54345e+03, 1.10000e+01],\n",
       "       [1.33605e+05, 2.78385e+03, 3.70000e+01],\n",
       "       [3.34720e+04, 1.12045e+03, 4.00000e+00],\n",
       "       [1.08860e+04, 7.27550e+02, 1.00000e+00],\n",
       "       [5.30130e+04, 1.53015e+03, 8.00000e+00],\n",
       "       [4.74440e+04, 1.23045e+03, 6.00000e+00],\n",
       "       [4.51280e+04, 1.42930e+03, 6.00000e+00],\n",
       "       [1.02340e+04, 9.66800e+02, 1.00000e+00],\n",
       "       [6.75100e+03, 1.69650e+02, 0.00000e+00],\n",
       "       [4.50010e+04, 1.39190e+03, 6.00000e+00],\n",
       "       [5.40570e+04, 1.32625e+03, 7.00000e+00],\n",
       "       [4.18620e+04, 1.10615e+03, 5.00000e+00],\n",
       "       [3.51600e+04, 1.85580e+03, 7.00000e+00],\n",
       "       [5.96000e+02, 3.92500e+02, 0.00000e+00],\n",
       "       [5.80000e+02, 4.37500e+01, 0.00000e+00],\n",
       "       [1.18860e+04, 1.40965e+03, 2.00000e+00],\n",
       "       [2.13560e+04, 1.00150e+03, 2.00000e+00],\n",
       "       [4.17890e+04, 1.45415e+03, 6.00000e+00],\n",
       "       [2.78970e+04, 2.26645e+03, 6.00000e+00],\n",
       "       [2.94960e+04, 1.30080e+03, 4.00000e+00],\n",
       "       [3.11390e+04, 1.58815e+03, 5.00000e+00],\n",
       "       [2.96320e+04, 1.41350e+03, 4.00000e+00],\n",
       "       [1.76040e+04, 7.90100e+02, 1.00000e+00],\n",
       "       [3.03690e+04, 1.10145e+03, 3.00000e+00],\n",
       "       [9.19170e+04, 2.17025e+03, 2.00000e+01],\n",
       "       [3.31820e+04, 1.21450e+03, 4.00000e+00],\n",
       "       [3.73690e+04, 1.33830e+03, 5.00000e+00],\n",
       "       [4.70950e+04, 1.36950e+03, 6.00000e+00],\n",
       "       [2.47950e+04, 1.29575e+03, 3.00000e+00],\n",
       "       [2.68940e+04, 1.07930e+03, 3.00000e+00],\n",
       "       [4.28280e+04, 1.30500e+03, 6.00000e+00],\n",
       "       [2.24830e+04, 1.00900e+03, 2.00000e+00],\n",
       "       [7.89680e+04, 2.16005e+03, 1.70000e+01],\n",
       "       [3.27160e+04, 1.17575e+03, 4.00000e+00],\n",
       "       [4.90410e+04, 1.38305e+03, 7.00000e+00],\n",
       "       [1.72530e+04, 1.10620e+03, 2.00000e+00],\n",
       "       [3.52070e+04, 1.29655e+03, 5.00000e+00],\n",
       "       [1.31470e+04, 6.13000e+02, 1.00000e+00],\n",
       "       [7.92200e+03, 1.01765e+03, 1.00000e+00]])"
      ]
     },
     "execution_count": 171,
     "metadata": {},
     "output_type": "execute_result"
    }
   ],
   "source": [
    "x"
   ]
  },
  {
   "cell_type": "code",
   "execution_count": 172,
   "id": "2973c3d2-2284-42d7-998d-e4d84f9ce386",
   "metadata": {},
   "outputs": [],
   "source": [
    "#70% para treino e 30% para testes\n",
    "split_test_size =  0.30"
   ]
  },
  {
   "cell_type": "code",
   "execution_count": 173,
   "id": "943cf05d-0951-47ae-8d6d-900b5f2644a9",
   "metadata": {},
   "outputs": [],
   "source": [
    "# Criando dados de treino e de teste\n",
    "X_treino, X_teste, Y_treino, Y_teste = train_test_split(x, y, test_size = split_test_size, random_state = 42)"
   ]
  },
  {
   "cell_type": "code",
   "execution_count": 174,
   "id": "e71016de-471b-40f6-8076-004d88b067a2",
   "metadata": {},
   "outputs": [
    {
     "name": "stdout",
     "output_type": "stream",
     "text": [
      "69.62% nos dados de treino\n",
      "30.38% nos dados de teste\n"
     ]
    }
   ],
   "source": [
    "# Imprimindo os resultados\n",
    "print(\"{0:0.2f}% nos dados de treino\".format((len(X_treino)/len(data.index)) * 100))\n",
    "print(\"{0:0.2f}% nos dados de teste\".format((len(X_teste)/len(data.index)) * 100))"
   ]
  },
  {
   "cell_type": "markdown",
   "id": "4595c71d-b2c0-42b9-9bac-185dc3fb6ed6",
   "metadata": {},
   "source": [
    "## Construido o modelo de Machine learning"
   ]
  },
  {
   "cell_type": "code",
   "execution_count": 175,
   "id": "a8df4964-3ab0-42ba-bb37-96966e1036e2",
   "metadata": {},
   "outputs": [],
   "source": [
    "# Utilizando um classificador Naive Bayes\n",
    "from sklearn.naive_bayes import GaussianNB\n",
    "#Esse agoritimo de classificação gausian e estatistico"
   ]
  },
  {
   "cell_type": "code",
   "execution_count": 176,
   "id": "92efe409-7822-48bd-8807-6384202cc4c2",
   "metadata": {},
   "outputs": [],
   "source": [
    "#criando o modelo preditivo\n",
    "modelo_v1 =  GaussianNB()"
   ]
  },
  {
   "cell_type": "code",
   "execution_count": 177,
   "id": "fa80dc5e-ef30-45a6-86e9-2cd5c1db33db",
   "metadata": {},
   "outputs": [
    {
     "data": {
      "text/plain": [
       "GaussianNB()"
      ]
     },
     "execution_count": 177,
     "metadata": {},
     "output_type": "execute_result"
    }
   ],
   "source": [
    "# Treinando o modelo\n",
    "modelo_v1.fit(X_treino,Y_treino)"
   ]
  },
  {
   "cell_type": "markdown",
   "id": "eb2b8f22-7b53-40af-abdc-efdb831b72dd",
   "metadata": {},
   "source": [
    "## testando a  acurácia do modelo"
   ]
  },
  {
   "cell_type": "code",
   "execution_count": 178,
   "id": "25b4bd1a-c358-4c30-a139-fb2d9fcda4b5",
   "metadata": {},
   "outputs": [],
   "source": [
    "from sklearn import metrics"
   ]
  },
  {
   "cell_type": "code",
   "execution_count": 179,
   "id": "329adbf2-adf1-403f-922c-208d993d1a0a",
   "metadata": {},
   "outputs": [],
   "source": [
    "nb_predict_train = modelo_v1.predict(X_treino)"
   ]
  },
  {
   "cell_type": "code",
   "execution_count": 180,
   "id": "7ea9a2ac-dc5b-421d-9684-c19c57086603",
   "metadata": {},
   "outputs": [
    {
     "name": "stdout",
     "output_type": "stream",
     "text": [
      "Exatidão (Accuracy): 0.9909\n",
      "\n"
     ]
    }
   ],
   "source": [
    "print(\"Exatidão (Accuracy): {0:.4f}\".format(metrics.accuracy_score(Y_treino, nb_predict_train)))\n",
    "print()"
   ]
  },
  {
   "cell_type": "code",
   "execution_count": null,
   "id": "53fbfd86-d886-45e6-8dd1-85a762069f54",
   "metadata": {},
   "outputs": [],
   "source": []
  }
 ],
 "metadata": {
  "kernelspec": {
   "display_name": "Python 3 (ipykernel)",
   "language": "python",
   "name": "python3"
  },
  "language_info": {
   "codemirror_mode": {
    "name": "ipython",
    "version": 3
   },
   "file_extension": ".py",
   "mimetype": "text/x-python",
   "name": "python",
   "nbconvert_exporter": "python",
   "pygments_lexer": "ipython3",
   "version": "3.9.12"
  }
 },
 "nbformat": 4,
 "nbformat_minor": 5
}
